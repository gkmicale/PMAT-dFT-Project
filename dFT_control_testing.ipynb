{
 "cells": [
  {
   "cell_type": "code",
   "execution_count": null,
   "metadata": {
    "collapsed": true
   },
   "outputs": [],
   "source": [
    "from pyluna import Luna\n",
    "from xdac import XDAC\n",
    "\n",
    "from time import sleep\n",
    "from matplotlib import pyplot as plt\n"
   ]
  },
  {
   "cell_type": "code",
   "execution_count": null,
   "outputs": [],
   "source": [
    "luna = Luna()\n",
    "xdac = XDAC()\n",
    "xdac.unlock()"
   ],
   "metadata": {
    "collapsed": false,
    "pycharm": {
     "name": "#%%\n"
    }
   }
  },
  {
   "cell_type": "code",
   "execution_count": null,
   "outputs": [],
   "source": [
    "def plot(x_data: list, y_data: list, y_title: str, title: str, x_title: str = 'wavelengths [nm]'):\n",
    "    fig, ax = plt.subplots(figsize=(4, 3), dpi=144)\n",
    "\n",
    "    ax.plot(x_data, y_data)\n",
    "    ax.set_title(title)\n",
    "    ax.set_xlabel(x_title)\n",
    "    ax.set_ylabel(y_title)\n",
    "\n",
    "    plt.show()"
   ],
   "metadata": {
    "collapsed": false,
    "pycharm": {
     "name": "#%%\n"
    }
   }
  },
  {
   "cell_type": "code",
   "execution_count": null,
   "outputs": [],
   "source": [
    "def sweep_and_plot(photodetector: int, start_wavelength, stop_wavelength, num_points):\n",
    "    pd_channel_map = {\n",
    "        0: 1,\n",
    "        1: 2,\n",
    "        2: 3,\n",
    "        3: 4,\n",
    "        4: 5,\n",
    "    }\n",
    "\n",
    "    channel_num = pd_channel_map[photodetector]\n",
    "    step = (stop_wavelength - start_wavelength) / num_points\n",
    "\n",
    "    wavelengths = []\n",
    "    power = []\n",
    "    currents = []\n",
    "\n",
    "    for i in range(num_points):\n",
    "        wavelength = start_wavelength + i * step\n",
    "        luna.set_source_wavelength(wavelength=wavelength)\n",
    "        luna.turnon_light_source()\n",
    "\n",
    "        current = float(xdac.read_single_channel_current(channel_num))\n",
    "        voltage = float(xdac.read_single_channel_voltage(channel_num))\n",
    "\n",
    "        wavelengths.append(wavelength)\n",
    "        power.append(current * voltage)\n",
    "        currents.append(current)\n",
    "\n",
    "    plot(wavelengths, currents, y_title='current [mA]', title=('PD' + str(photodetector)))"
   ],
   "metadata": {
    "collapsed": false,
    "pycharm": {
     "name": "#%%\n"
    }
   }
  },
  {
   "cell_type": "code",
   "execution_count": null,
   "outputs": [],
   "source": [
    "xdac.set_channel_voltage_range(channel=1, _range=0)\n",
    "# xdac.set_channel_current(channel=1, current_val=10)\n",
    "xdac.set_channel_voltage(channel=1, voltage_val=2.0)\n",
    "sleep(2)\n",
    "print('Channel 1 Voltage = ', xdac.read_single_channel_voltage(1))"
   ],
   "metadata": {
    "collapsed": false,
    "pycharm": {
     "name": "#%%\n"
    }
   }
  },
  {
   "cell_type": "code",
   "execution_count": null,
   "outputs": [],
   "source": [
    "xdac.set_channel_voltage_range(channel=2, _range=0)\n",
    "# xdac.set_channel_current(channel=2, current_val=10)\n",
    "xdac.set_channel_voltage(channel=2, voltage_val=2.0)\n",
    "sleep(2)\n",
    "print('Channel 2 Voltage = ', xdac.read_single_channel_voltage(2))"
   ],
   "metadata": {
    "collapsed": false,
    "pycharm": {
     "name": "#%%\n"
    }
   }
  },
  {
   "cell_type": "code",
   "execution_count": null,
   "outputs": [],
   "source": [
    "xdac.set_channel_voltage_range(channel=3, _range=0)\n",
    "# xdac.set_channel_current(channel=3, current_val=10)\n",
    "xdac.set_channel_voltage(channel=3, voltage_val=2.0)\n",
    "sleep(2)\n",
    "print('Channel 3 Voltage = ', xdac.read_single_channel_voltage(3))"
   ],
   "metadata": {
    "collapsed": false,
    "pycharm": {
     "name": "#%%\n"
    }
   }
  },
  {
   "cell_type": "code",
   "execution_count": null,
   "outputs": [],
   "source": [
    "xdac.set_channel_voltage_range(channel=4, _range=0)\n",
    "# xdac.set_channel_current(channel=2, current_val=10)\n",
    "xdac.set_channel_voltage(channel=4, voltage_val=2.0)\n",
    "sleep(2)\n",
    "print('Channel 4 Voltage = ', xdac.read_single_channel_voltage(4))"
   ],
   "metadata": {
    "collapsed": false,
    "pycharm": {
     "name": "#%%\n"
    }
   }
  },
  {
   "cell_type": "code",
   "execution_count": null,
   "outputs": [],
   "source": [
    "xdac.set_channel_voltage_range(channel=5, _range=0)\n",
    "# xdac.set_channel_current(channel=2, current_val=10)\n",
    "xdac.set_channel_voltage(channel=5, voltage_val=2.0)\n",
    "sleep(2)\n",
    "print('Channel 5 Voltage = ', xdac.read_single_channel_voltage(5))"
   ],
   "metadata": {
    "collapsed": false,
    "pycharm": {
     "name": "#%%\n"
    }
   }
  },
  {
   "cell_type": "code",
   "execution_count": null,
   "outputs": [],
   "source": [
    "xdac.set_channel_voltage(channel=1, voltage_val=2.0)\n",
    "xdac.set_channel_voltage(channel=2, voltage_val=2.0)\n",
    "xdac.set_channel_voltage(channel=3, voltage_val=2.0)\n",
    "xdac.set_channel_voltage(channel=4, voltage_val=2.0)\n",
    "xdac.set_channel_voltage(channel=5, voltage_val=2.0)\n",
    "\n",
    "sleep(3)\n",
    "\n",
    "print('Channel 1 Voltage = ', xdac.read_single_channel_voltage(1), ' V')\n",
    "print('Channel 2 Voltage = ', xdac.read_single_channel_voltage(2), ' V')\n",
    "print('Channel 3 Voltage = ', xdac.read_single_channel_voltage(3), ' V')\n",
    "print('Channel 4 Voltage = ', xdac.read_single_channel_voltage(4), ' V')\n",
    "print('Channel 5 Voltage = ', xdac.read_single_channel_voltage(5), ' V')\n",
    "\n",
    "luna.set_source_wavelength(wavelength=1550.)\n",
    "luna.turnon_light_source()\n",
    "\n",
    "sleep(3)\n",
    "\n",
    "print('Channel 1 Current = ', xdac.read_single_channel_current(1), ' mA')\n",
    "print('Channel 2 Current = ', xdac.read_single_channel_current(2), ' mA')\n",
    "print('Channel 3 Current = ', xdac.read_single_channel_current(3), ' mA')\n",
    "print('Channel 4 Current = ', xdac.read_single_channel_current(4), ' mA')\n",
    "print('Channel 5 Current = ', xdac.read_single_channel_current(5), ' mA')"
   ],
   "metadata": {
    "collapsed": false,
    "pycharm": {
     "name": "#%%\n"
    }
   }
  }
 ],
 "metadata": {
  "kernelspec": {
   "display_name": "Python 3",
   "language": "python",
   "name": "python3"
  },
  "language_info": {
   "codemirror_mode": {
    "name": "ipython",
    "version": 2
   },
   "file_extension": ".py",
   "mimetype": "text/x-python",
   "name": "python",
   "nbconvert_exporter": "python",
   "pygments_lexer": "ipython2",
   "version": "2.7.6"
  }
 },
 "nbformat": 4,
 "nbformat_minor": 0
}